{
 "cells": [
  {
   "cell_type": "markdown",
   "metadata": {},
   "source": [
    "<h2> Predict Rating based on reviews </h2>\n",
    "<h4> Recurrent Neural Network (RNN) model with LSTM </h4>"
   ]
  },
  {
   "cell_type": "markdown",
   "metadata": {},
   "source": [
    "<br/>"
   ]
  },
  {
   "cell_type": "markdown",
   "metadata": {},
   "source": [
    "<h4> Import Required Packages </h4>"
   ]
  },
  {
   "cell_type": "code",
   "execution_count": 1,
   "metadata": {},
   "outputs": [
    {
     "data": {
      "text/plain": [
       "True"
      ]
     },
     "execution_count": 1,
     "metadata": {},
     "output_type": "execute_result"
    }
   ],
   "source": [
    "import tensorflow as tf\n",
    "#test GPU Support\n",
    "tf.test.is_built_with_cuda()"
   ]
  },
  {
   "cell_type": "code",
   "execution_count": 2,
   "metadata": {
    "colab": {
     "base_uri": "https://localhost:8080/",
     "height": 50
    },
    "id": "1ZD6uSw5fnSY",
    "outputId": "ff99691a-9eb2-4f61-b79e-97ec33f74b0b"
   },
   "outputs": [],
   "source": [
    "import pandas as pd\n",
    "from tqdm import tqdm\n",
    "import neattext.functions as nfx\n",
    "import numpy as np\n",
    "from tensorflow.keras.preprocessing.text import Tokenizer\n",
    "from tensorflow.keras.preprocessing.sequence import pad_sequences\n",
    "from sklearn.model_selection import train_test_split\n",
    "from sklearn.metrics import classification_report\n",
    "from nltk.corpus import stopwords\n",
    "import nltk\n",
    "from sklearn.preprocessing import LabelEncoder"
   ]
  },
  {
   "cell_type": "markdown",
   "metadata": {},
   "source": [
    "<h3>Define Variables </h3>"
   ]
  },
  {
   "cell_type": "code",
   "execution_count": 127,
   "metadata": {
    "id": "RphjTfImfxdP"
   },
   "outputs": [],
   "source": [
    "#max size for vocabulary\n",
    "vocabulary_size = 5000\n",
    "#oov token\n",
    "oov_token = '<OOV>'\n",
    "#max sequence size for padding\n",
    "max_size = 100"
   ]
  },
  {
   "cell_type": "markdown",
   "metadata": {},
   "source": [
    "<h3> Read dataset </h3>"
   ]
  },
  {
   "cell_type": "code",
   "execution_count": 4,
   "metadata": {},
   "outputs": [],
   "source": [
    "# Read dataset using pandas\n",
    "dataset = pd.read_csv(\"data.csv\", encoding='utf-8',skipinitialspace=True)\n",
    "dataset2 = pd.read_csv(\"data2.csv\", encoding='utf-8',skipinitialspace=True)"
   ]
  },
  {
   "cell_type": "code",
   "execution_count": 5,
   "metadata": {},
   "outputs": [
    {
     "name": "stdout",
     "output_type": "stream",
     "text": [
      "Dataset without Preprocessing\n"
     ]
    },
    {
     "data": {
      "text/html": [
       "<div>\n",
       "<style scoped>\n",
       "    .dataframe tbody tr th:only-of-type {\n",
       "        vertical-align: middle;\n",
       "    }\n",
       "\n",
       "    .dataframe tbody tr th {\n",
       "        vertical-align: top;\n",
       "    }\n",
       "\n",
       "    .dataframe thead th {\n",
       "        text-align: right;\n",
       "    }\n",
       "</style>\n",
       "<table border=\"1\" class=\"dataframe\">\n",
       "  <thead>\n",
       "    <tr style=\"text-align: right;\">\n",
       "      <th></th>\n",
       "      <th>id</th>\n",
       "      <th>asins</th>\n",
       "      <th>brand</th>\n",
       "      <th>categories</th>\n",
       "      <th>colors</th>\n",
       "      <th>dateAdded</th>\n",
       "      <th>dateUpdated</th>\n",
       "      <th>dimension</th>\n",
       "      <th>ean</th>\n",
       "      <th>keys</th>\n",
       "      <th>...</th>\n",
       "      <th>reviews.username</th>\n",
       "      <th>sizes</th>\n",
       "      <th>upc</th>\n",
       "      <th>weight</th>\n",
       "      <th>primaryCategories</th>\n",
       "      <th>imageURLs</th>\n",
       "      <th>reviews.dateSeen</th>\n",
       "      <th>reviews.didPurchase</th>\n",
       "      <th>reviews.id</th>\n",
       "      <th>sourceURLs</th>\n",
       "    </tr>\n",
       "  </thead>\n",
       "  <tbody>\n",
       "    <tr>\n",
       "      <th>0</th>\n",
       "      <td>AVpe7AsMilAPnD_xQ78G</td>\n",
       "      <td>B00QJDU3KY</td>\n",
       "      <td>Amazon</td>\n",
       "      <td>Amazon Devices,mazon.co.uk</td>\n",
       "      <td>NaN</td>\n",
       "      <td>2016-03-08T20:21:53Z</td>\n",
       "      <td>2017-07-18T23:52:58Z</td>\n",
       "      <td>169 mm x 117 mm x 9.1 mm</td>\n",
       "      <td>NaN</td>\n",
       "      <td>kindlepaperwhite/b00qjdu3ky</td>\n",
       "      <td>...</td>\n",
       "      <td>Cristina M</td>\n",
       "      <td>NaN</td>\n",
       "      <td>NaN</td>\n",
       "      <td>205 grams</td>\n",
       "      <td>NaN</td>\n",
       "      <td>NaN</td>\n",
       "      <td>NaN</td>\n",
       "      <td>NaN</td>\n",
       "      <td>NaN</td>\n",
       "      <td>NaN</td>\n",
       "    </tr>\n",
       "    <tr>\n",
       "      <th>1</th>\n",
       "      <td>AVpe7AsMilAPnD_xQ78G</td>\n",
       "      <td>B00QJDU3KY</td>\n",
       "      <td>Amazon</td>\n",
       "      <td>Amazon Devices,mazon.co.uk</td>\n",
       "      <td>NaN</td>\n",
       "      <td>2016-03-08T20:21:53Z</td>\n",
       "      <td>2017-07-18T23:52:58Z</td>\n",
       "      <td>169 mm x 117 mm x 9.1 mm</td>\n",
       "      <td>NaN</td>\n",
       "      <td>kindlepaperwhite/b00qjdu3ky</td>\n",
       "      <td>...</td>\n",
       "      <td>Ricky</td>\n",
       "      <td>NaN</td>\n",
       "      <td>NaN</td>\n",
       "      <td>205 grams</td>\n",
       "      <td>NaN</td>\n",
       "      <td>NaN</td>\n",
       "      <td>NaN</td>\n",
       "      <td>NaN</td>\n",
       "      <td>NaN</td>\n",
       "      <td>NaN</td>\n",
       "    </tr>\n",
       "    <tr>\n",
       "      <th>2</th>\n",
       "      <td>AVpe7AsMilAPnD_xQ78G</td>\n",
       "      <td>B00QJDU3KY</td>\n",
       "      <td>Amazon</td>\n",
       "      <td>Amazon Devices,mazon.co.uk</td>\n",
       "      <td>NaN</td>\n",
       "      <td>2016-03-08T20:21:53Z</td>\n",
       "      <td>2017-07-18T23:52:58Z</td>\n",
       "      <td>169 mm x 117 mm x 9.1 mm</td>\n",
       "      <td>NaN</td>\n",
       "      <td>kindlepaperwhite/b00qjdu3ky</td>\n",
       "      <td>...</td>\n",
       "      <td>Tedd Gardiner</td>\n",
       "      <td>NaN</td>\n",
       "      <td>NaN</td>\n",
       "      <td>205 grams</td>\n",
       "      <td>NaN</td>\n",
       "      <td>NaN</td>\n",
       "      <td>NaN</td>\n",
       "      <td>NaN</td>\n",
       "      <td>NaN</td>\n",
       "      <td>NaN</td>\n",
       "    </tr>\n",
       "    <tr>\n",
       "      <th>3</th>\n",
       "      <td>AVpe7AsMilAPnD_xQ78G</td>\n",
       "      <td>B00QJDU3KY</td>\n",
       "      <td>Amazon</td>\n",
       "      <td>Amazon Devices,mazon.co.uk</td>\n",
       "      <td>NaN</td>\n",
       "      <td>2016-03-08T20:21:53Z</td>\n",
       "      <td>2017-07-18T23:52:58Z</td>\n",
       "      <td>169 mm x 117 mm x 9.1 mm</td>\n",
       "      <td>NaN</td>\n",
       "      <td>kindlepaperwhite/b00qjdu3ky</td>\n",
       "      <td>...</td>\n",
       "      <td>Dougal</td>\n",
       "      <td>NaN</td>\n",
       "      <td>NaN</td>\n",
       "      <td>205 grams</td>\n",
       "      <td>NaN</td>\n",
       "      <td>NaN</td>\n",
       "      <td>NaN</td>\n",
       "      <td>NaN</td>\n",
       "      <td>NaN</td>\n",
       "      <td>NaN</td>\n",
       "    </tr>\n",
       "    <tr>\n",
       "      <th>4</th>\n",
       "      <td>AVpe7AsMilAPnD_xQ78G</td>\n",
       "      <td>B00QJDU3KY</td>\n",
       "      <td>Amazon</td>\n",
       "      <td>Amazon Devices,mazon.co.uk</td>\n",
       "      <td>NaN</td>\n",
       "      <td>2016-03-08T20:21:53Z</td>\n",
       "      <td>2017-07-18T23:52:58Z</td>\n",
       "      <td>169 mm x 117 mm x 9.1 mm</td>\n",
       "      <td>NaN</td>\n",
       "      <td>kindlepaperwhite/b00qjdu3ky</td>\n",
       "      <td>...</td>\n",
       "      <td>Miljan David Tanic</td>\n",
       "      <td>NaN</td>\n",
       "      <td>NaN</td>\n",
       "      <td>205 grams</td>\n",
       "      <td>NaN</td>\n",
       "      <td>NaN</td>\n",
       "      <td>NaN</td>\n",
       "      <td>NaN</td>\n",
       "      <td>NaN</td>\n",
       "      <td>NaN</td>\n",
       "    </tr>\n",
       "  </tbody>\n",
       "</table>\n",
       "<p>5 rows × 33 columns</p>\n",
       "</div>"
      ],
      "text/plain": [
       "                     id       asins   brand                  categories  \\\n",
       "0  AVpe7AsMilAPnD_xQ78G  B00QJDU3KY  Amazon  Amazon Devices,mazon.co.uk   \n",
       "1  AVpe7AsMilAPnD_xQ78G  B00QJDU3KY  Amazon  Amazon Devices,mazon.co.uk   \n",
       "2  AVpe7AsMilAPnD_xQ78G  B00QJDU3KY  Amazon  Amazon Devices,mazon.co.uk   \n",
       "3  AVpe7AsMilAPnD_xQ78G  B00QJDU3KY  Amazon  Amazon Devices,mazon.co.uk   \n",
       "4  AVpe7AsMilAPnD_xQ78G  B00QJDU3KY  Amazon  Amazon Devices,mazon.co.uk   \n",
       "\n",
       "  colors             dateAdded           dateUpdated  \\\n",
       "0    NaN  2016-03-08T20:21:53Z  2017-07-18T23:52:58Z   \n",
       "1    NaN  2016-03-08T20:21:53Z  2017-07-18T23:52:58Z   \n",
       "2    NaN  2016-03-08T20:21:53Z  2017-07-18T23:52:58Z   \n",
       "3    NaN  2016-03-08T20:21:53Z  2017-07-18T23:52:58Z   \n",
       "4    NaN  2016-03-08T20:21:53Z  2017-07-18T23:52:58Z   \n",
       "\n",
       "                  dimension  ean                         keys  ...  \\\n",
       "0  169 mm x 117 mm x 9.1 mm  NaN  kindlepaperwhite/b00qjdu3ky  ...   \n",
       "1  169 mm x 117 mm x 9.1 mm  NaN  kindlepaperwhite/b00qjdu3ky  ...   \n",
       "2  169 mm x 117 mm x 9.1 mm  NaN  kindlepaperwhite/b00qjdu3ky  ...   \n",
       "3  169 mm x 117 mm x 9.1 mm  NaN  kindlepaperwhite/b00qjdu3ky  ...   \n",
       "4  169 mm x 117 mm x 9.1 mm  NaN  kindlepaperwhite/b00qjdu3ky  ...   \n",
       "\n",
       "     reviews.username sizes upc     weight primaryCategories imageURLs  \\\n",
       "0          Cristina M   NaN NaN  205 grams               NaN       NaN   \n",
       "1               Ricky   NaN NaN  205 grams               NaN       NaN   \n",
       "2       Tedd Gardiner   NaN NaN  205 grams               NaN       NaN   \n",
       "3              Dougal   NaN NaN  205 grams               NaN       NaN   \n",
       "4  Miljan David Tanic   NaN NaN  205 grams               NaN       NaN   \n",
       "\n",
       "   reviews.dateSeen  reviews.didPurchase reviews.id sourceURLs  \n",
       "0               NaN                  NaN        NaN        NaN  \n",
       "1               NaN                  NaN        NaN        NaN  \n",
       "2               NaN                  NaN        NaN        NaN  \n",
       "3               NaN                  NaN        NaN        NaN  \n",
       "4               NaN                  NaN        NaN        NaN  \n",
       "\n",
       "[5 rows x 33 columns]"
      ]
     },
     "execution_count": 5,
     "metadata": {},
     "output_type": "execute_result"
    }
   ],
   "source": [
    "# Combine Data Sets\n",
    "dataset = dataset.append(dataset2, ignore_index=True)\n",
    "\n",
    "#print dataset head\n",
    "print(\"Dataset without Preprocessing\")\n",
    "dataset.head()"
   ]
  },
  {
   "cell_type": "code",
   "execution_count": 103,
   "metadata": {},
   "outputs": [
    {
     "data": {
      "text/html": [
       "<div>\n",
       "<style scoped>\n",
       "    .dataframe tbody tr th:only-of-type {\n",
       "        vertical-align: middle;\n",
       "    }\n",
       "\n",
       "    .dataframe tbody tr th {\n",
       "        vertical-align: top;\n",
       "    }\n",
       "\n",
       "    .dataframe thead th {\n",
       "        text-align: right;\n",
       "    }\n",
       "</style>\n",
       "<table border=\"1\" class=\"dataframe\">\n",
       "  <thead>\n",
       "    <tr style=\"text-align: right;\">\n",
       "      <th></th>\n",
       "      <th>review</th>\n",
       "      <th>reviews.rating</th>\n",
       "    </tr>\n",
       "  </thead>\n",
       "  <tbody>\n",
       "    <tr>\n",
       "      <th>0</th>\n",
       "      <td>Paperwhite voyage, no regrets!I initially had ...</td>\n",
       "      <td>5.0</td>\n",
       "    </tr>\n",
       "    <tr>\n",
       "      <th>1</th>\n",
       "      <td>One Simply Could Not Ask For MoreAllow me to p...</td>\n",
       "      <td>5.0</td>\n",
       "    </tr>\n",
       "    <tr>\n",
       "      <th>2</th>\n",
       "      <td>Great for those that just want an e-readerI am...</td>\n",
       "      <td>4.0</td>\n",
       "    </tr>\n",
       "    <tr>\n",
       "      <th>3</th>\n",
       "      <td>Love / Hate relationshipI bought one of the fi...</td>\n",
       "      <td>5.0</td>\n",
       "    </tr>\n",
       "    <tr>\n",
       "      <th>4</th>\n",
       "      <td>I LOVE ITI have to say upfront - I don't like ...</td>\n",
       "      <td>5.0</td>\n",
       "    </tr>\n",
       "  </tbody>\n",
       "</table>\n",
       "</div>"
      ],
      "text/plain": [
       "                                              review  reviews.rating\n",
       "0  Paperwhite voyage, no regrets!I initially had ...             5.0\n",
       "1  One Simply Could Not Ask For MoreAllow me to p...             5.0\n",
       "2  Great for those that just want an e-readerI am...             4.0\n",
       "3  Love / Hate relationshipI bought one of the fi...             5.0\n",
       "4  I LOVE ITI have to say upfront - I don't like ...             5.0"
      ]
     },
     "execution_count": 103,
     "metadata": {},
     "output_type": "execute_result"
    }
   ],
   "source": [
    "# combine columns review title and review text\n",
    "dataset['review'] = dataset['reviews.title'] + dataset['reviews.text']\n",
    "\n",
    "# remove unnecessary columns\n",
    "dataframe = dataset[['review', 'reviews.rating']]\n",
    "\n",
    "#print dataset head\n",
    "dataframe.head()"
   ]
  },
  {
   "cell_type": "code",
   "execution_count": 104,
   "metadata": {},
   "outputs": [
    {
     "name": "stdout",
     "output_type": "stream",
     "text": [
      "dataset row count before removing null values: 29929\n",
      "dataset row count after removing null values: 29509\n"
     ]
    }
   ],
   "source": [
    "#print dataset size\n",
    "print(\"dataset row count before removing null values: \"+str(len(dataframe)))\n",
    "\n",
    "#remove null values \n",
    "dataframe = dataframe[dataframe['reviews.rating'].notna()]\n",
    "dataframe = dataframe[dataframe['review'].notna()]\n",
    "\n",
    "#print dataset size\n",
    "print(\"dataset row count after removing null values: \"+str(len(dataframe)))"
   ]
  },
  {
   "cell_type": "markdown",
   "metadata": {},
   "source": [
    "<h4>This Function is used to clean the dataset </h4>"
   ]
  },
  {
   "cell_type": "code",
   "execution_count": 139,
   "metadata": {},
   "outputs": [],
   "source": [
    "def clean_review_text(text):\n",
    "    text_length=[]\n",
    "    cleaned_text=[]\n",
    "    for txt in tqdm(text):\n",
    "        #convert text to lowercase first\n",
    "        txt=txt.lower()\n",
    "        #remove special characters from the text\n",
    "        txt=nfx.remove_special_characters(txt)\n",
    "        #remove stop words\n",
    "        txt=nfx.remove_stopwords(txt)\n",
    "        text_length.append(len(txt.split()))\n",
    "        cleaned_text.append(txt)\n",
    "    return cleaned_text,text_length"
   ]
  },
  {
   "cell_type": "markdown",
   "metadata": {},
   "source": [
    "<h4>Split Data Set into training and validating sets </h4>"
   ]
  },
  {
   "cell_type": "code",
   "execution_count": 122,
   "metadata": {
    "colab": {
     "base_uri": "https://localhost:8080/",
     "height": 100
    },
    "id": "aMtn5vCviGh_",
    "outputId": "cbdfe746-28ca-41d2-f278-f2d65992237f"
   },
   "outputs": [
    {
     "name": "stdout",
     "output_type": "stream",
     "text": [
      "Length of Training dataset = 23607\n",
      "Length of Validation dataset = 5902\n"
     ]
    }
   ],
   "source": [
    "train_data,test_data=train_test_split(dataframe,test_size=0.20,random_state=11)\n",
    "print(\"Length of Training dataset = {}\".format(len(train_data)))\n",
    "print(\"Length of Validation dataset = {}\".format(len(test_data)))"
   ]
  },
  {
   "cell_type": "markdown",
   "metadata": {},
   "source": [
    "<h4> Clean text by calling clean_review_text function, </h4>"
   ]
  },
  {
   "cell_type": "code",
   "execution_count": 140,
   "metadata": {},
   "outputs": [
    {
     "name": "stderr",
     "output_type": "stream",
     "text": [
      "100%|█████████████████████████████████████████████████████████████████████████| 23607/23607 [00:00<00:00, 64427.99it/s]\n",
      "100%|███████████████████████████████████████████████████████████████████████████| 5902/5902 [00:00<00:00, 67247.60it/s]\n"
     ]
    }
   ],
   "source": [
    "cleaned_train_text,train_text_length=clean_review_text(train_data.review.astype(str))\n",
    "cleaned_test_text,test_text_length=clean_review_text(test_data.review.astype(str))"
   ]
  },
  {
   "cell_type": "markdown",
   "metadata": {},
   "source": [
    "<h3> Encode Labels </h3>"
   ]
  },
  {
   "cell_type": "code",
   "execution_count": 141,
   "metadata": {},
   "outputs": [
    {
     "name": "stdout",
     "output_type": "stream",
     "text": [
      "{1.0, 2.0, 3.0, 4.0, 5.0}\n"
     ]
    }
   ],
   "source": [
    "lbl_target=LabelEncoder()\n",
    "train_output=lbl_target.fit_transform(train_data['reviews.rating'])\n",
    "test_output=lbl_target.transform(test_data['reviews.rating'])\n",
    "print(set(test_data['reviews.rating']))"
   ]
  },
  {
   "cell_type": "markdown",
   "metadata": {},
   "source": [
    "<h4> Tokenize Dataset </h4>"
   ]
  },
  {
   "cell_type": "code",
   "execution_count": 125,
   "metadata": {},
   "outputs": [],
   "source": [
    "tokenizer=Tokenizer(num_words=vocabulary_size,oov_token=oov_token)\n",
    "tokenizer.fit_on_texts(cleaned_train_text)\n",
    "word_index = tokenizer.word_index"
   ]
  },
  {
   "cell_type": "markdown",
   "metadata": {},
   "source": [
    "<h4> convert dataset into sequences and add padding </h4>"
   ]
  },
  {
   "cell_type": "code",
   "execution_count": 128,
   "metadata": {},
   "outputs": [
    {
     "name": "stdout",
     "output_type": "stream",
     "text": [
      "[    8   246  4349   181   287   330   248   862  1560 11833   205   109\n",
      "   149 11834  1058     3     0     0     0     0     0     0     0     0\n",
      "     0     0     0     0     0     0     0     0     0     0     0     0\n",
      "     0     0     0     0     0     0     0     0     0     0     0     0\n",
      "     0     0     0     0     0     0     0     0     0     0     0     0\n",
      "     0     0     0     0     0     0     0     0     0     0     0     0\n",
      "     0     0     0     0     0     0     0     0     0     0     0     0\n",
      "     0     0     0     0     0     0     0     0     0     0     0     0\n",
      "     0     0     0     0]\n"
     ]
    }
   ],
   "source": [
    "#convert to sequences\n",
    "train_text_seq=tokenizer.texts_to_sequences(cleaned_train_text)\n",
    "#add padding\n",
    "train_text_pad=pad_sequences(train_text_seq,maxlen=max_size,padding='post', truncating='post')\n",
    "#convert to sequences\n",
    "test_text_seq=tokenizer.texts_to_sequences(cleaned_test_text)\n",
    "#add padding\n",
    "test_text_pad=pad_sequences(test_text_seq,maxlen=max_size,padding='post', truncating='post')\n",
    "print(train_text_pad[25])"
   ]
  },
  {
   "cell_type": "code",
   "execution_count": 142,
   "metadata": {},
   "outputs": [
    {
     "name": "stdout",
     "output_type": "stream",
     "text": [
      "This is how word index looks like\n"
     ]
    },
    {
     "data": {
      "text/plain": [
       "{'<OOV>': 1,\n",
       " 'great': 2,\n",
       " 'batteries': 3,\n",
       " 'tablet': 4,\n",
       " 'good': 5,\n",
       " 'price': 6,\n",
       " 'use': 7,\n",
       " 'amazon': 8,\n",
       " 'love': 9,\n",
       " 'kindle': 10,\n",
       " 'fire': 11,\n",
       " 'like': 12,\n",
       " 'easy': 13,\n",
       " 'kids': 14,\n",
       " 'long': 15,\n",
       " 'work': 16,\n",
       " 'buy': 17,\n",
       " 'bought': 18,\n",
       " 'product': 19,\n",
       " 'loves': 20}"
      ]
     },
     "execution_count": 142,
     "metadata": {},
     "output_type": "execute_result"
    }
   ],
   "source": [
    "print(\"This is how word index looks like\")\n",
    "dict(list(word_index.items())[0:20])"
   ]
  },
  {
   "cell_type": "markdown",
   "metadata": {},
   "source": [
    "<h4> Get vocabulary Size </h4>"
   ]
  },
  {
   "cell_type": "code",
   "execution_count": 130,
   "metadata": {},
   "outputs": [
    {
     "name": "stdout",
     "output_type": "stream",
     "text": [
      "Size of the Vocabulary = 20458\n"
     ]
    }
   ],
   "source": [
    "vocabulary_size=len(tokenizer.word_index) + 1\n",
    "print(\"Size of the Vocabulary = \"+str(vocabulary_size))"
   ]
  },
  {
   "cell_type": "markdown",
   "metadata": {},
   "source": [
    "<h4> Generate a Keras seqeuntial model </h4>"
   ]
  },
  {
   "cell_type": "code",
   "execution_count": 131,
   "metadata": {
    "colab": {
     "base_uri": "https://localhost:8080/",
     "height": 284
    },
    "id": "Qb41nppsis11",
    "outputId": "82380de6-657a-4d79-95bc-4d15a7a5f84e"
   },
   "outputs": [
    {
     "name": "stdout",
     "output_type": "stream",
     "text": [
      "Model Summary\n",
      "Model: \"sequential_7\"\n",
      "_________________________________________________________________\n",
      "Layer (type)                 Output Shape              Param #   \n",
      "=================================================================\n",
      "embedding_7 (Embedding)      (None, None, 128)         2618624   \n",
      "_________________________________________________________________\n",
      "bidirectional_7 (Bidirection (None, 256)               263168    \n",
      "_________________________________________________________________\n",
      "dense_14 (Dense)             (None, 128)               32896     \n",
      "_________________________________________________________________\n",
      "dropout_7 (Dropout)          (None, 128)               0         \n",
      "_________________________________________________________________\n",
      "dense_15 (Dense)             (None, 5)                 645       \n",
      "=================================================================\n",
      "Total params: 2,915,333\n",
      "Trainable params: 2,915,333\n",
      "Non-trainable params: 0\n",
      "_________________________________________________________________\n"
     ]
    }
   ],
   "source": [
    "model = tf.keras.Sequential([\n",
    "    #Embedding layer with vocabulary size and 128 dimension\n",
    "    tf.keras.layers.Embedding(vocabulary_size, 128),\n",
    "    #Bidrectional LSTM layer\n",
    "    tf.keras.layers.Bidirectional(tf.keras.layers.LSTM(128)),\n",
    "    #Relu dense layer\n",
    "    tf.keras.layers.Dense(128, activation='relu'),\n",
    "    #Dropout layer for prevent overfitting\n",
    "    tf.keras.layers.Dropout(0.4),\n",
    "    #softmax classifier\n",
    "    tf.keras.layers.Dense(5, activation='softmax')\n",
    "])\n",
    "print(\"Model Summary\")\n",
    "model.summary()"
   ]
  },
  {
   "cell_type": "markdown",
   "metadata": {},
   "source": [
    "<h4> compile keras model </h4>"
   ]
  },
  {
   "cell_type": "code",
   "execution_count": 132,
   "metadata": {
    "id": "qJVRoZeGivc9"
   },
   "outputs": [],
   "source": [
    "model.compile(loss='sparse_categorical_crossentropy', optimizer='adam', metrics=['accuracy'])"
   ]
  },
  {
   "cell_type": "markdown",
   "metadata": {},
   "source": [
    "<h4> Train Model </h4>"
   ]
  },
  {
   "cell_type": "code",
   "execution_count": 133,
   "metadata": {
    "colab": {
     "base_uri": "https://localhost:8080/",
     "height": 351
    },
    "id": "wrxUgHBCixwN",
    "outputId": "aa024de3-10e2-4f0f-9ccc-9e84ecb1febe"
   },
   "outputs": [
    {
     "name": "stdout",
     "output_type": "stream",
     "text": [
      "Epoch 1/50\n",
      "34/34 [==============================] - 4s 51ms/step - loss: 1.0189 - accuracy: 0.6833 - val_loss: 0.8323 - val_accuracy: 0.7074\n",
      "Epoch 2/50\n",
      "34/34 [==============================] - 1s 37ms/step - loss: 0.7829 - accuracy: 0.7071 - val_loss: 0.7030 - val_accuracy: 0.7247\n",
      "Epoch 3/50\n",
      "34/34 [==============================] - 1s 37ms/step - loss: 0.6127 - accuracy: 0.7599 - val_loss: 0.6280 - val_accuracy: 0.7552\n",
      "Epoch 4/50\n",
      "34/34 [==============================] - 1s 36ms/step - loss: 0.4764 - accuracy: 0.8209 - val_loss: 0.5936 - val_accuracy: 0.7725\n",
      "Epoch 5/50\n",
      "34/34 [==============================] - 1s 38ms/step - loss: 0.3681 - accuracy: 0.8682 - val_loss: 0.5865 - val_accuracy: 0.7914\n",
      "Epoch 6/50\n",
      "34/34 [==============================] - 1s 37ms/step - loss: 0.2958 - accuracy: 0.8968 - val_loss: 0.5867 - val_accuracy: 0.8155\n",
      "Epoch 7/50\n",
      "34/34 [==============================] - 1s 36ms/step - loss: 0.2459 - accuracy: 0.9164 - val_loss: 0.6046 - val_accuracy: 0.8212\n",
      "Epoch 8/50\n",
      "34/34 [==============================] - 1s 37ms/step - loss: 0.2144 - accuracy: 0.9274 - val_loss: 0.6756 - val_accuracy: 0.8065\n",
      "Epoch 9/50\n",
      "34/34 [==============================] - 1s 38ms/step - loss: 0.1794 - accuracy: 0.9418 - val_loss: 0.6828 - val_accuracy: 0.8190\n",
      "Epoch 10/50\n",
      "34/34 [==============================] - 1s 37ms/step - loss: 0.1567 - accuracy: 0.9489 - val_loss: 0.7672 - val_accuracy: 0.8229\n",
      "Epoch 11/50\n",
      "34/34 [==============================] - 1s 36ms/step - loss: 0.1448 - accuracy: 0.9535 - val_loss: 0.7534 - val_accuracy: 0.8294\n",
      "Epoch 12/50\n",
      "34/34 [==============================] - 1s 37ms/step - loss: 0.1372 - accuracy: 0.9552 - val_loss: 0.7633 - val_accuracy: 0.8231\n",
      "Epoch 13/50\n",
      "34/34 [==============================] - 1s 38ms/step - loss: 0.1248 - accuracy: 0.9601 - val_loss: 0.8333 - val_accuracy: 0.8212\n",
      "Epoch 14/50\n",
      "34/34 [==============================] - 1s 37ms/step - loss: 0.1194 - accuracy: 0.9606 - val_loss: 0.8869 - val_accuracy: 0.8258\n"
     ]
    }
   ],
   "source": [
    "# max number of epoches\n",
    "num_epochs = 50\n",
    "#call back to early stopping\n",
    "es_callback = tf.keras.callbacks.EarlyStopping(monitor='val_accuracy', patience=3)\n",
    "#train the model\n",
    "history = model.fit(train_text_pad, train_output, validation_data=(test_text_pad,test_output), epochs=num_epochs,batch_size=700, callbacks=[es_callback], verbose=1)"
   ]
  },
  {
   "cell_type": "markdown",
   "metadata": {},
   "source": [
    "<h4> Write the trained model to local stoarge</h4>"
   ]
  },
  {
   "cell_type": "code",
   "execution_count": 134,
   "metadata": {},
   "outputs": [],
   "source": [
    "model.save(\"Review_prediction__trained_model.h5\")"
   ]
  },
  {
   "cell_type": "markdown",
   "metadata": {},
   "source": [
    "<h4> Model Validation </h4>"
   ]
  },
  {
   "cell_type": "code",
   "execution_count": 143,
   "metadata": {
    "colab": {
     "base_uri": "https://localhost:8080/",
     "height": 541
    },
    "id": "avZvGCwHi0yt",
    "outputId": "5fe5eb05-81a0-4b5a-fe12-df10fbdba51d"
   },
   "outputs": [
    {
     "data": {
      "image/png": "[encoded data removed]",
      "text/plain": [
       "<Figure size 432x288 with 1 Axes>"
      ]
     },
     "metadata": {
      "needs_background": "light"
     },
     "output_type": "display_data"
    },
    {
     "data": {
      "image/png": "[encoded data removed]",
      "text/plain": [
       "<Figure size 432x288 with 1 Axes>"
      ]
     },
     "metadata": {
      "needs_background": "light"
     },
     "output_type": "display_data"
    }
   ],
   "source": [
    "#print accuracy loss plot\n",
    "import matplotlib.pyplot as plot\n",
    "def plot_graphs(history, string):\n",
    "  plot.plot(history.history[string])\n",
    "  plot.plot(history.history['val_'+string])\n",
    "  plot.xlabel(\"Epochs\")\n",
    "  plot.ylabel(string)\n",
    "  plot.legend([string, 'val_'+string])\n",
    "  plot.show()\n",
    "  \n",
    "plot_graphs(history, \"accuracy\")\n",
    "plot_graphs(history, \"loss\")"
   ]
  },
  {
   "cell_type": "markdown",
   "metadata": {},
   "source": [
    "<h4> Test with our own sample review texts </h4>"
   ]
  },
  {
   "cell_type": "code",
   "execution_count": 144,
   "metadata": {
    "colab": {
     "base_uri": "https://localhost:8080/",
     "height": 50
    },
    "id": "Zh-8g4TWi24O",
    "outputId": "8b4cbf20-3e88-4aa8-8e68-f74346ea9dc3"
   },
   "outputs": [
    {
     "name": "stdout",
     "output_type": "stream",
     "text": [
      "[[9.9555176e-01 4.4427798e-03 7.0025027e-07 1.5306648e-08 4.7189360e-06]] 1.0\n"
     ]
    }
   ],
   "source": [
    "sample_txt = [\"They work but they don't last they drain really quickly only had them about 2 weeks and they are almost all dead. Very frustrating will not be buying these again save your money and buy Duracell.\"]\n",
    "seq = tokenizer.texts_to_sequences(sample_txt)\n",
    "padded = pad_sequences(seq, maxlen=max_size,padding='post', truncating='post')\n",
    "pred = model.predict(padded)\n",
    "labels = ['1.0', '2.0', '3.0', '4.0', '5.0']\n",
    "print(pred, labels[np.argmax(pred)])"
   ]
  },
  {
   "cell_type": "markdown",
   "metadata": {},
   "source": [
    "<h4> print Classification Report </h4>"
   ]
  },
  {
   "cell_type": "code",
   "execution_count": 138,
   "metadata": {},
   "outputs": [
    {
     "name": "stdout",
     "output_type": "stream",
     "text": [
      "TESTING DATA CLASSIFICATION REPORT \n",
      " \n",
      "\n",
      "              precision    recall  f1-score   support\n",
      "\n",
      "           0       0.82      0.73      0.77       182\n",
      "           1       0.47      0.45      0.46       112\n",
      "           2       0.56      0.60      0.58       255\n",
      "           3       0.69      0.62      0.65      1178\n",
      "           4       0.88      0.91      0.90      4175\n",
      "\n",
      "    accuracy                           0.83      5902\n",
      "   macro avg       0.68      0.66      0.67      5902\n",
      "weighted avg       0.82      0.83      0.82      5902\n",
      "\n"
     ]
    }
   ],
   "source": [
    "print('TESTING DATA CLASSIFICATION REPORT \\n \\n')\n",
    "print(classification_report(test_output,np.argmax(model.predict(test_text_pad), axis=-1),))"
   ]
  }
 ],
 "metadata": {
  "colab": {
   "collapsed_sections": [],
   "name": "IT17106016.ipynb",
   "provenance": []
  },
  "kernelspec": {
   "display_name": "Python 3",
   "language": "python",
   "name": "python3"
  },
  "language_info": {
   "codemirror_mode": {
    "name": "ipython",
    "version": 3
   },
   "file_extension": ".py",
   "mimetype": "text/x-python",
   "name": "python",
   "nbconvert_exporter": "python",
   "pygments_lexer": "ipython3",
   "version": "3.8.8"
  }
 },
 "nbformat": 4,
 "nbformat_minor": 1
}
